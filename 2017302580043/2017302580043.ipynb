{
 "cells": [
  {
   "cell_type": "code",
   "execution_count": null,
   "metadata": {},
   "outputs": [
    {
     "name": "stdout",
     "output_type": "stream",
     "text": [
      "input here，end with \"#\"\n",
      "0110011001100000\n",
      "0101010101010101\n"
     ]
    }
   ],
   "source": [
    "# -*- coding:utf-8 -*-\n",
    "import matplotlib.pyplot as plt\n",
    "\n",
    "def judge(str_input):\n",
    "    c = \"0\"\n",
    "    for str_ in str_input:\n",
    "        c = bin(int(c, 2) + int(str_, 2))\n",
    "#     print(c)  # type:str like \"0bxxxx\"\n",
    "    result = c[2:];\n",
    "#     print(result);  #  type:str like \"xxxx\"\n",
    "    len_ = len(str_input)\n",
    "    \n",
    "    plt.text(2.5, n - len_ -1, \"-\"*36);\n",
    "    plt.text(-0.1, n - len_ -1, \"Step1:Sum numbers\", color='blue');\n",
    "    plt.text(2.1, n - len_ -2, \"result:\" + str(result));\n",
    "\n",
    "    # len > 17，rollback\n",
    "    length = len(result);\n",
    "    plt.text(-0.1, n - len_ -3, \"Step2:Judge length\", color='blue');\n",
    "    while (length >= 17):\n",
    "        plt.text(2.2, n - len_ -3, \"length>=17,need rollback\", color='red');\n",
    "        tmp_result = result[1:];\n",
    "        tmp_num = int(str(tmp_result), 2);\n",
    "        add_num = int(\"1\", 2);\n",
    "        tmp_result = bin(tmp_num + add_num)[2:];\n",
    "        length = len(tmp_result);\n",
    "        result = tmp_result;\n",
    "    # len < 16，add 0\n",
    "    while length < 16:\n",
    "        final_str = \"0\" + str(result);\n",
    "        length = length + 1;\n",
    "        \n",
    "    plt.text(1.7, n - len_ -4, \"final result:\"+final_str);\n",
    "    # inverse here\n",
    "    com_str = \"\";\n",
    "    for f in final_str:\n",
    "        if (int(f) == 0):\n",
    "            com_str = com_str + \"1\";\n",
    "        else:\n",
    "            com_str = com_str + \"0\";\n",
    "    plt.text(-0.1, n - len_ -5, \"Step3:Inverse\", color='blue');\n",
    "    plt.text(1.5, n - len_ -6, \"inverse code:\" + com_str);\n",
    "    \n",
    "    add_result = bin(int(final_str, 2) + int(com_str, 2))\n",
    "    plt.text(-0.1, n - len_ -7, \"Step4:Add\", color='blue');\n",
    "    plt.text(1.5, n - len_ -8, \"    add result:\" + add_result[2:]);\n",
    "    \n",
    "\n",
    "\n",
    "if __name__ == \"__main__\":\n",
    "    # input, you can change the fixd data to console input here if needed\n",
    "    data_type = 1\n",
    "    str_input = []\n",
    "    if data_type == 0:\n",
    "        str_input = [\"0110011001100000\", \"0101010101010101\", \"1000111100001100\"]\n",
    "    else:\n",
    "        print('input here，end with \"#\"')\n",
    "        str_ = input()\n",
    "        while str_ != '#':\n",
    "            str_input.append(str(str_))\n",
    "            str_ = input()\n",
    "    plt.figure();\n",
    "    plt.xlim(-1, 6)\n",
    "    plt.ylim(0, 15)\n",
    "    n=13;\n",
    "    \n",
    "    plt.text(2.5, n-1, \"     \" + str_input[0])\n",
    "    for i in range(1, len(str_input)):\n",
    "        plt.text(2.5, n-i-1, \" + \" + str_input[i])\n",
    "\n",
    "    judge(str_input);\n",
    "    plt.show();"
   ]
  }
 ],
 "metadata": {
  "kernelspec": {
   "display_name": "Python 3",
   "language": "python",
   "name": "python3"
  },
  "language_info": {
   "codemirror_mode": {
    "name": "ipython",
    "version": 3
   },
   "file_extension": ".py",
   "mimetype": "text/x-python",
   "name": "python",
   "nbconvert_exporter": "python",
   "pygments_lexer": "ipython3",
   "version": "3.7.6"
  }
 },
 "nbformat": 4,
 "nbformat_minor": 4
}
